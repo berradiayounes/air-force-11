{
 "cells": [
  {
   "cell_type": "code",
   "execution_count": 1,
   "id": "crucial-cinema",
   "metadata": {},
   "outputs": [],
   "source": [
    "from bs4 import BeautifulSoup\n",
    "from selenium import webdriver\n",
    "import time\n",
    "import pandas as pd\n",
    "import requests\n",
    "from tqdm import tqdm"
   ]
  },
  {
   "cell_type": "code",
   "execution_count": 2,
   "metadata": {},
   "outputs": [],
   "source": [
    "driver = webdriver.Chrome(\"../../../chromedriver\")\n",
    "airlines = pd.read_csv(\"../data/airline_links_tripadvisor.csv\")"
   ]
  },
  {
   "cell_type": "code",
   "execution_count": 3,
   "metadata": {},
   "outputs": [
    {
     "output_type": "stream",
     "name": "stdout",
     "text": [
      "Advanced Air\n",
      "100%|██████████| 1/1 [00:01<00:00,  1.66s/it]\n",
      "AEGEAN\n",
      "  1%|          | 11/958 [00:18<28:02,  1.78s/it]"
     ]
    }
   ],
   "source": [
    "#Go through all the pages of reviews\n",
    "for airline in airlines[\"airlines\"]:\n",
    "    print(airline)\n",
    "    airline_name = []\n",
    "    reviews = []\n",
    "    dates = []\n",
    "    scores = []\n",
    "    tags = []\n",
    "    #Get reviews from airline\n",
    "    url = \"https://www.tripadvisor.com\" + airlines.loc[airlines['airlines'] == airline][\"links\"].values[0]\n",
    "    driver.get(url)\n",
    "    #Scroll down page\n",
    "    driver.execute_script(\"window.scrollTo(0, document.body.scrollHeight)\")\n",
    "    time.sleep(2)\n",
    "    driver.execute_script(\"window.scrollTo(0, document.body.scrollHeight)\")\n",
    "    page = BeautifulSoup(driver.page_source)\n",
    "    try:\n",
    "        total_pages = int(page.find(\"div\", {\"class\": \"pageNumbers\"}).find_all(\"a\")[-1].text)\n",
    "    except:\n",
    "        total_pages = 1\n",
    "    for i in tqdm(range(total_pages)):\n",
    "        driver.get(url)\n",
    "        driver.execute_script(\"window.scrollTo(0, document.body.scrollHeight)\")\n",
    "        time.sleep(1)\n",
    "        driver.execute_script(\"window.scrollTo(0, document.body.scrollHeight)\")\n",
    "        page = BeautifulSoup(driver.page_source)\n",
    "\n",
    "        #Review text\n",
    "        for review in page.find_all(\"q\", {\"class\": \"IRsGHoPm\"}):\n",
    "            reviews.append(review.text)\n",
    "            airline_name.append(airline)\n",
    "        \n",
    "        #Review date\n",
    "        for date in page.find_all(\"span\", {\"class\": \"_34Xs-BQm\"}):\n",
    "            dates.append(date.text)\n",
    "\n",
    "        #Review scores\n",
    "        for score in page.find_all(\"div\", {\"class\": \"nf9vGX55\"}):\n",
    "            scores.append(int(score.find(\"span\").get(\"class\")[1][7]))\n",
    "\n",
    "        #Trip information\n",
    "        for tag in page.find_all(\"div\", {\"class\": \"hpZJCN7D\"}):\n",
    "            tags.append([stag.text for stag in tag.find_all(\"div\", {\"class\": \"_3tp-5a1G\"})])\n",
    "        \n",
    "        if total_pages > 1:\n",
    "            url = url[:60] + \"or\" + str((i + 1)*5) + \"-\" + url[60:]\n",
    "        \n",
    "    reviews = pd.DataFrame({\"reviews\": reviews, \"scores\": scores, \"tags\": tags})\n",
    "    reviews.to_csv(\"../data/trip_advisor_reviews\" + airline + \".csv\", sep = \",\", index = False)"
   ]
  },
  {
   "cell_type": "code",
   "execution_count": null,
   "metadata": {},
   "outputs": [],
   "source": []
  }
 ],
 "metadata": {
  "kernelspec": {
   "name": "python3",
   "display_name": "Python 3.9.0 64-bit",
   "metadata": {
    "interpreter": {
     "hash": "aee8b7b246df8f9039afb4144a1f6fd8d2ca17a180786b69acc140d282b71a49"
    }
   }
  },
  "language_info": {
   "codemirror_mode": {
    "name": "ipython",
    "version": 3
   },
   "file_extension": ".py",
   "mimetype": "text/x-python",
   "name": "python",
   "nbconvert_exporter": "python",
   "pygments_lexer": "ipython3",
   "version": "3.9.0-final"
  }
 },
 "nbformat": 4,
 "nbformat_minor": 5
}
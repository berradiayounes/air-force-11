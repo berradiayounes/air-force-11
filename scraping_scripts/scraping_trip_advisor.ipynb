{
 "cells": [
  {
   "cell_type": "code",
   "execution_count": 1,
   "id": "crucial-cinema",
   "metadata": {},
   "outputs": [],
   "source": [
    "from bs4 import BeautifulSoup\n",
    "from selenium import webdriver\n",
    "import time\n",
    "import pandas as pd\n",
    "import requests\n",
    "from tqdm import tqdm"
   ]
  },
  {
   "cell_type": "code",
   "execution_count": 2,
   "metadata": {},
   "outputs": [],
   "source": [
    "driver = webdriver.Chrome(\"../../../chromedriver\")\n",
    "airlines = pd.read_csv(\"../data/airline_links_tripadvisor.csv\")"
   ]
  },
  {
   "cell_type": "code",
   "execution_count": 3,
   "metadata": {},
   "outputs": [
    {
     "output_type": "error",
     "ename": "SyntaxError",
     "evalue": "invalid syntax (<ipython-input-3-1736c2d54fde>, line 35)",
     "traceback": [
      "\u001b[0;36m  File \u001b[0;32m\"<ipython-input-3-1736c2d54fde>\"\u001b[0;36m, line \u001b[0;32m35\u001b[0m\n\u001b[0;31m    review = review_block.find(\"q\", {\"class\": \"IRsGHoPm\"}):\u001b[0m\n\u001b[0m                                                          ^\u001b[0m\n\u001b[0;31mSyntaxError\u001b[0m\u001b[0;31m:\u001b[0m invalid syntax\n"
     ]
    }
   ],
   "source": [
    "#Go through all the pages of reviews\n",
    "for airline in airlines[\"airlines\"]:\n",
    "    print(airline)\n",
    "    airline_name = []\n",
    "    reviews = []\n",
    "    dates = []\n",
    "    scores = []\n",
    "    itineraries = []\n",
    "    regions = []\n",
    "    classes = []\n",
    "    #Get reviews from airline\n",
    "    url = \"https://www.tripadvisor.com\" + airlines.loc[airlines['airlines'] == airline][\"links\"].values[0]\n",
    "    driver.get(url)\n",
    "    #Scroll down page\n",
    "    driver.execute_script(\"window.scrollTo(0, document.body.scrollHeight)\")\n",
    "    time.sleep(2)\n",
    "    driver.execute_script(\"window.scrollTo(0, document.body.scrollHeight)\")\n",
    "    page = BeautifulSoup(driver.page_source)\n",
    "    try:\n",
    "        total_pages = int(page.find(\"div\", {\"class\": \"pageNumbers\"}).find_all(\"a\")[-1].text)\n",
    "    except:\n",
    "        total_pages = 1\n",
    "    for i in tqdm(range(0, total_pages, 10)):\n",
    "        driver.get(url)\n",
    "        driver.execute_script(\"window.scrollTo(0, document.body.scrollHeight)\")\n",
    "        time.sleep(1)\n",
    "        driver.execute_script(\"window.scrollTo(0, document.body.scrollHeight)\")\n",
    "        page = BeautifulSoup(driver.page_source)\n",
    "\n",
    "        review_blocks = page.find_all(\"div\", {\"class\": \"Dq9MAugU T870kzTX LnVzGwUB\"})\n",
    "\n",
    "        for review_block in review_blocks:\n",
    "            #Review text\n",
    "            try:\n",
    "                review = review_block.find(\"q\", {\"class\": \"IRsGHoPm\"})\n",
    "                reviews.append(review.text)\n",
    "            except:\n",
    "                reviews.append(\"\")\n",
    "            \n",
    "            #Review date\n",
    "            try:\n",
    "                date = review_block.find(\"span\", {\"class\": \"_34Xs-BQm\"})\n",
    "                dates.append(date.text)\n",
    "            except:\n",
    "                dates.append(\"\")\n",
    "\n",
    "            #Review scores\n",
    "            try:\n",
    "                score = review_block.find(\"div\", {\"class\": \"nf9vGX55\"})\n",
    "                scores.append(int(score.find(\"span\").get(\"class\")[1][7]))\n",
    "            except:\n",
    "                scores.append(-1)\n",
    "\n",
    "            #Trip information\n",
    "            try:\n",
    "                tag = review_block.find(\"div\", {\"class\": \"hpZJCN7D\"})\n",
    "                tags = tag.find_all(\"div\", {\"class\": \"_3tp-5a1G\"})\n",
    "                itineraries.append(tags[0].text)\n",
    "                regions.append(tags[1].text)\n",
    "                classes.append(tags[2].text)\n",
    "            except:\n",
    "                itineraries.append(\"\")\n",
    "                regions.append(\"\")\n",
    "                classes.append(\"\")\n",
    "                \n",
    "            \n",
    "        if total_pages > 1:\n",
    "            url = url[:60] + \"or\" + str((i + 1)*5) + \"-\" + url[60:]\n",
    "        \n",
    "    reviews = pd.DataFrame({\"reviews\": reviews, \"scores\": scores, \"itineraries\": itineraries, \"regions\": regions, \"classes\": classes})\n",
    "    reviews.to_csv(\"../data/trip_advisor_reviews_\" + airline + \".csv\", sep = \",\", index = False)"
   ]
  },
  {
   "cell_type": "code",
   "execution_count": null,
   "metadata": {},
   "outputs": [],
   "source": []
  }
 ],
 "metadata": {
  "kernelspec": {
   "name": "python3",
   "display_name": "Python 3.9.0 64-bit",
   "metadata": {
    "interpreter": {
     "hash": "aee8b7b246df8f9039afb4144a1f6fd8d2ca17a180786b69acc140d282b71a49"
    }
   }
  },
  "language_info": {
   "codemirror_mode": {
    "name": "ipython",
    "version": 3
   },
   "file_extension": ".py",
   "mimetype": "text/x-python",
   "name": "python",
   "nbconvert_exporter": "python",
   "pygments_lexer": "ipython3",
   "version": "3.9.0-final"
  }
 },
 "nbformat": 4,
 "nbformat_minor": 5
}
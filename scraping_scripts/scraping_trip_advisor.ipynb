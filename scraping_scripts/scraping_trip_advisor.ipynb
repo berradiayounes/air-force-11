{
 "cells": [
  {
   "cell_type": "code",
   "execution_count": 1,
   "id": "crucial-cinema",
   "metadata": {},
   "outputs": [],
   "source": [
    "from bs4 import BeautifulSoup\n",
    "from selenium import webdriver\n",
    "import time\n",
    "import pandas as pd"
   ]
  },
  {
   "cell_type": "code",
   "execution_count": 2,
   "metadata": {},
   "outputs": [],
   "source": [
    "driver = webdriver.Chrome(\"../../chromedriver\")"
   ]
  },
  {
   "cell_type": "code",
   "execution_count": 3,
   "metadata": {},
   "outputs": [],
   "source": [
    "def _find_element_click(\n",
    "    driver,\n",
    "    by,\n",
    "    expression,\n",
    "):\n",
    "    \"\"\"Find the element and click then  handle all type of exception during click\n",
    "    Args:\n",
    "        driver (selenium.driver): Selenium driver\n",
    "        by (selenium.webdriver.common.by): Type of selector\n",
    "            (By.XPATH, By.CSS_SELECTOR ...)\n",
    "        expression (str): Selector expression to the element to click on\n",
    "    Returns:\n",
    "        bool: True if successfully clicked on the element\n",
    "    \"\"\"\n",
    "    end_time = time.time() + 60\n",
    "    while True:\n",
    "        try:\n",
    "            driver.execute_script(\"window.scrollTo(0, document.body.scrollHeight)\")\n",
    "            time.sleep(2)\n",
    "            driver.execute_script(\"window.scrollTo(0, document.body.scrollHeight)\")\n",
    "            web_element = driver.find_element(by=by, value=expression)\n",
    "            web_element.click()\n",
    "            return True\n",
    "        except:\n",
    "            if time.time() > end_time:\n",
    "                time.sleep(4)\n",
    "                break\n",
    "    return False"
   ]
  },
  {
   "cell_type": "code",
   "execution_count": 2,
   "metadata": {},
   "outputs": [],
   "source": [
    "url = \"https://www.tripadvisor.com/Airline_Review-d11831132-Reviews-Aerogaviota\"\n",
    "driver.get(url)\n",
    "page = BeautifulSoup(driver.page_source)"
   ]
  },
  {
   "cell_type": "code",
   "execution_count": 4,
   "metadata": {},
   "outputs": [
    {
     "output_type": "stream",
     "name": "stdout",
     "text": [
      "Failure to go to next page\n"
     ]
    }
   ],
   "source": [
    "#Go through all the pages of reviews\n",
    "i = 0\n",
    "reviews = []\n",
    "dates = []\n",
    "scores = []\n",
    "tags = []\n",
    "\n",
    "try:\n",
    "    total_pages = int(page.find(\"div\", {\"class\": \"pageNumbers\"}).find_all(\"a\")[-1].text)\n",
    "except:\n",
    "    total_pages = 1\n",
    "while i < total_pages:\n",
    "    page = BeautifulSoup(driver.page_source)\n",
    "\n",
    "    #Review text\n",
    "    for review in page.find_all(\"q\", {\"class\": \"IRsGHoPm\"}):\n",
    "        reviews.append(review.text)\n",
    "    \n",
    "    #Review date\n",
    "    for date in page.find_all(\"span\", {\"class\": \"_34Xs-BQm\"}):\n",
    "        dates.append(date.text)\n",
    "\n",
    "    #Review scores\n",
    "    for score in page.find_all(\"div\", {\"class\": \"nf9vGX55\"}):\n",
    "        scores.append(int(score.find(\"span\").get(\"class\")[1][7]))\n",
    "\n",
    "    #Trip information\n",
    "    for tag in page.find_all(\"div\", {\"class\": \"hpZJCN7D\"}):\n",
    "        tags.append([stag.text for stag in tag.find_all(\"div\", {\"class\": \"_3tp-5a1G\"})])\n",
    "    \n",
    "    result = _find_element_click(driver, webdriver.common.by.By.XPATH, \".//a[@class='ui_button nav next primary ']\")\n",
    "    if result == False:\n",
    "        i = total_pages\n",
    "        print(\"Failure to go to next page\")\n",
    "\n",
    "    i += 1"
   ]
  },
  {
   "cell_type": "code",
   "execution_count": 5,
   "metadata": {},
   "outputs": [
    {
     "output_type": "execute_result",
     "data": {
      "text/plain": [
       "3"
      ]
     },
     "metadata": {},
     "execution_count": 5
    }
   ],
   "source": [
    "len(reviews)"
   ]
  },
  {
   "cell_type": "code",
   "execution_count": 2,
   "metadata": {},
   "outputs": [],
   "source": [
    "# default tripadvisor website of restaurant\n",
    "#url = \"https://www.tripadvisor.com/Airline_Review-d17550095-Reviews-Advanced-Air\"\n",
    "#url = \"https://www.tripadvisor.com/Airline_Review-d8728985-Reviews-AEGEAN\"\n",
    "url = \"https://www.tripadvisor.com/Airline_Review-d8728986-Reviews-Aer-Lingus\"\n",
    "\n",
    "# Import the webdriver\n",
    "driver = webdriver.Chrome(\"../../chromedriver\")\n",
    "driver.get(url)\n",
    "\n",
    "page = BeautifulSoup(driver.page_source)"
   ]
  },
  {
   "cell_type": "code",
   "execution_count": 9,
   "metadata": {},
   "outputs": [],
   "source": [
    "#Number of contributions\n",
    "#contributions = []\n",
    "#for contribution in page.find_all(\"div\", {\"class\": \"_1EpRX7o3\"}):\n",
    "#   contributions.append([contrib.text for contrib in contribution.find_all(\"span\", {\"class\": \"_3fPsSAYi\"})])\n",
    "#contributions"
   ]
  },
  {
   "cell_type": "code",
   "execution_count": null,
   "metadata": {},
   "outputs": [],
   "source": [
    "\n",
    "    if i == 0:\n",
    "        url = \"https://www.tripadvisor.com/Airline_Review-d8728986-Reviews-Aer-Lingus\"\n",
    "    else:\n",
    "        url = \"https://www.tripadvisor.com/Airline_Review-or%s-d8728986-Reviews-Aer-Lingus\" % i"
   ]
  }
 ],
 "metadata": {
  "kernelspec": {
   "name": "python3",
   "display_name": "Python 3.9.0 64-bit",
   "metadata": {
    "interpreter": {
     "hash": "aee8b7b246df8f9039afb4144a1f6fd8d2ca17a180786b69acc140d282b71a49"
    }
   }
  },
  "language_info": {
   "codemirror_mode": {
    "name": "ipython",
    "version": 3
   },
   "file_extension": ".py",
   "mimetype": "text/x-python",
   "name": "python",
   "nbconvert_exporter": "python",
   "pygments_lexer": "ipython3",
   "version": "3.9.0-final"
  }
 },
 "nbformat": 4,
 "nbformat_minor": 5
}
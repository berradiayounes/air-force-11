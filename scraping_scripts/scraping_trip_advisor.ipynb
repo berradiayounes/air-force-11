{
 "cells": [
  {
   "cell_type": "code",
   "execution_count": 1,
   "id": "crucial-cinema",
   "metadata": {},
   "outputs": [],
   "source": [
    "from bs4 import BeautifulSoup\n",
    "from selenium import webdriver\n",
    "import time\n",
    "import pandas as pd\n",
    "from tqdm import tqdm"
   ]
  },
  {
   "cell_type": "code",
   "execution_count": 2,
   "metadata": {},
   "outputs": [],
   "source": [
    "driver = webdriver.Chrome(\"../../../chromedriver\")\n",
    "airlines = pd.read_csv(\"../data/airline_links_tripadvisor.csv\")"
   ]
  },
  {
   "cell_type": "code",
   "execution_count": 3,
   "metadata": {},
   "outputs": [],
   "source": [
    "def _find_element_click(\n",
    "    driver,\n",
    "    by,\n",
    "    expression,\n",
    "):\n",
    "    \"\"\"Find the element and click then  handle all type of exception during click\n",
    "    Args:\n",
    "        driver (selenium.driver): Selenium driver\n",
    "        by (selenium.webdriver.common.by): Type of selector\n",
    "            (By.XPATH, By.CSS_SELECTOR ...)\n",
    "        expression (str): Selector expression to the element to click on\n",
    "    Returns:\n",
    "        bool: True if successfully clicked on the element\n",
    "    \"\"\"\n",
    "    end_time = time.time() + 8\n",
    "    while True:\n",
    "        try:\n",
    "            driver.execute_script(\"window.scrollTo(0, document.body.scrollHeight)\")\n",
    "            time.sleep(2)\n",
    "            driver.execute_script(\"window.scrollTo(0, document.body.scrollHeight)\")\n",
    "            web_element = driver.find_element(by=by, value=expression)\n",
    "            web_element.click()\n",
    "            return True\n",
    "        except:\n",
    "            if time.time() > end_time:\n",
    "                break\n",
    "    return False"
   ]
  },
  {
   "cell_type": "code",
   "execution_count": 4,
   "metadata": {},
   "outputs": [
    {
     "output_type": "stream",
     "name": "stderr",
     "text": [
      "  0%|          | 1/579 [00:29<4:42:30, 29.33s/it]\n"
     ]
    },
    {
     "output_type": "error",
     "ename": "KeyboardInterrupt",
     "evalue": "",
     "traceback": [
      "\u001b[0;31m---------------------------------------------------------------------------\u001b[0m",
      "\u001b[0;31mKeyboardInterrupt\u001b[0m                         Traceback (most recent call last)",
      "\u001b[0;32m<ipython-input-4-3725d8db0cc5>\u001b[0m in \u001b[0;36m<module>\u001b[0;34m\u001b[0m\n\u001b[1;32m     23\u001b[0m         \u001b[0mdriver\u001b[0m\u001b[0;34m.\u001b[0m\u001b[0mget\u001b[0m\u001b[0;34m(\u001b[0m\u001b[0murl\u001b[0m\u001b[0;34m)\u001b[0m\u001b[0;34m\u001b[0m\u001b[0;34m\u001b[0m\u001b[0m\n\u001b[1;32m     24\u001b[0m         \u001b[0mdriver\u001b[0m\u001b[0;34m.\u001b[0m\u001b[0mexecute_script\u001b[0m\u001b[0;34m(\u001b[0m\u001b[0;34m\"window.scrollTo(0, document.body.scrollHeight)\"\u001b[0m\u001b[0;34m)\u001b[0m\u001b[0;34m\u001b[0m\u001b[0;34m\u001b[0m\u001b[0m\n\u001b[0;32m---> 25\u001b[0;31m         \u001b[0mtime\u001b[0m\u001b[0;34m.\u001b[0m\u001b[0msleep\u001b[0m\u001b[0;34m(\u001b[0m\u001b[0;36m2\u001b[0m\u001b[0;34m)\u001b[0m\u001b[0;34m\u001b[0m\u001b[0;34m\u001b[0m\u001b[0m\n\u001b[0m\u001b[1;32m     26\u001b[0m         \u001b[0mdriver\u001b[0m\u001b[0;34m.\u001b[0m\u001b[0mexecute_script\u001b[0m\u001b[0;34m(\u001b[0m\u001b[0;34m\"window.scrollTo(0, document.body.scrollHeight)\"\u001b[0m\u001b[0;34m)\u001b[0m\u001b[0;34m\u001b[0m\u001b[0;34m\u001b[0m\u001b[0m\n\u001b[1;32m     27\u001b[0m         \u001b[0mpage\u001b[0m \u001b[0;34m=\u001b[0m \u001b[0mBeautifulSoup\u001b[0m\u001b[0;34m(\u001b[0m\u001b[0mdriver\u001b[0m\u001b[0;34m.\u001b[0m\u001b[0mpage_source\u001b[0m\u001b[0;34m)\u001b[0m\u001b[0;34m\u001b[0m\u001b[0;34m\u001b[0m\u001b[0m\n",
      "\u001b[0;31mKeyboardInterrupt\u001b[0m: "
     ]
    }
   ],
   "source": [
    "#Go through all the pages of reviews\n",
    "i = 0\n",
    "airline_name = []\n",
    "reviews = []\n",
    "dates = []\n",
    "scores = []\n",
    "tags = []\n",
    "\n",
    "for airline in tqdm(airlines[\"airlines\"]):\n",
    "    #Get reviews from airline\n",
    "    url = \"https://www.tripadvisor.com\" + airlines.loc[airlines['airlines'] == airline][\"links\"].values[0]\n",
    "    driver.get(url)\n",
    "    #Scroll down page\n",
    "    driver.execute_script(\"window.scrollTo(0, document.body.scrollHeight)\")\n",
    "    time.sleep(2)\n",
    "    driver.execute_script(\"window.scrollTo(0, document.body.scrollHeight)\")\n",
    "    page = BeautifulSoup(driver.page_source)\n",
    "    try:\n",
    "        total_pages = int(page.find(\"div\", {\"class\": \"pageNumbers\"}).find_all(\"a\")[-1].text)\n",
    "    except:\n",
    "        total_pages = 1\n",
    "    for i in range(total_pages - 1):\n",
    "        driver.get(url)\n",
    "        driver.execute_script(\"window.scrollTo(0, document.body.scrollHeight)\")\n",
    "        page = BeautifulSoup(driver.page_source)\n",
    "\n",
    "        #Review text\n",
    "        for review in page.find_all(\"q\", {\"class\": \"IRsGHoPm\"}):\n",
    "            reviews.append(review.text)\n",
    "            airline_name.append(airline)\n",
    "        \n",
    "        #Review date\n",
    "        for date in page.find_all(\"span\", {\"class\": \"_34Xs-BQm\"}):\n",
    "            dates.append(date.text)\n",
    "\n",
    "        #Review scores\n",
    "        for score in page.find_all(\"div\", {\"class\": \"nf9vGX55\"}):\n",
    "            scores.append(int(score.find(\"span\").get(\"class\")[1][7]))\n",
    "\n",
    "        #Trip information\n",
    "        for tag in page.find_all(\"div\", {\"class\": \"hpZJCN7D\"}):\n",
    "            tags.append([stag.text for stag in tag.find_all(\"div\", {\"class\": \"_3tp-5a1G\"})])\n",
    "        \n",
    "        if total_pages > 1:\n",
    "            #result = _find_element_click(driver, webdriver.common.by.By.XPATH, \".//a[@class='ui_button nav next primary ']\")\n",
    "            url = url[:60] + \"or\" + str((i + 1)*5) + \"-\" + url[60:]"
   ]
  },
  {
   "cell_type": "code",
   "execution_count": 5,
   "metadata": {},
   "outputs": [
    {
     "output_type": "execute_result",
     "data": {
      "text/plain": [
       "[]"
      ]
     },
     "metadata": {},
     "execution_count": 5
    }
   ],
   "source": [
    "reviews"
   ]
  },
  {
   "cell_type": "code",
   "execution_count": 6,
   "metadata": {},
   "outputs": [
    {
     "output_type": "stream",
     "name": "stdout",
     "text": [
      "https://www.tripadvisor.com/Airline_Review-d8728986-Reviews-or5-Aer-Lingus.html#REVIEWS\n"
     ]
    }
   ],
   "source": [
    "url = \"https://www.tripadvisor.com/Airline_Review-d8728986-Reviews-Aer-Lingus.html#REVIEWS\"\n",
    "url = url[:60] + \"or\" + str((0 + 1)*5) + \"-\" + url[60:]\n",
    "print(url)"
   ]
  },
  {
   "cell_type": "code",
   "execution_count": 5,
   "metadata": {},
   "outputs": [],
   "source": [
    "reviews = pd.DataFrame({\"airline_name\": airline_name,\"reviews\": reviews, \"scores\": scores, \"tags\": tags})\n",
    "reviews.to_csv(\"../data/trip_advisor_reviews.csv\", sep = \",\", index = False)"
   ]
  }
 ],
 "metadata": {
  "kernelspec": {
   "name": "python3",
   "display_name": "Python 3.9.0 64-bit",
   "metadata": {
    "interpreter": {
     "hash": "aee8b7b246df8f9039afb4144a1f6fd8d2ca17a180786b69acc140d282b71a49"
    }
   }
  },
  "language_info": {
   "codemirror_mode": {
    "name": "ipython",
    "version": 3
   },
   "file_extension": ".py",
   "mimetype": "text/x-python",
   "name": "python",
   "nbconvert_exporter": "python",
   "pygments_lexer": "ipython3",
   "version": "3.9.0-final"
  }
 },
 "nbformat": 4,
 "nbformat_minor": 5
}